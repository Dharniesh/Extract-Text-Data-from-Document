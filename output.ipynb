{
 "cells": [
  {
   "cell_type": "code",
   "execution_count": 1,
   "id": "c34a350f-6622-4402-8377-2195156e952b",
   "metadata": {
    "tags": []
   },
   "outputs": [],
   "source": [
    "import cv2\n",
    "import predictions as pred"
   ]
  },
  {
   "cell_type": "code",
   "execution_count": 8,
   "id": "72cbfd6c-a7f9-49b8-b993-f580fa0697eb",
   "metadata": {
    "tags": []
   },
   "outputs": [],
   "source": [
    "img = cv2.imread('./data/45411.jpg')\n",
    "cv2.namedWindow('original',cv2.WINDOW_NORMAL)\n",
    "cv2.imshow('original',img)\n",
    "cv2.waitKey(0)\n",
    "cv2.destroyAllWindows()"
   ]
  },
  {
   "cell_type": "code",
   "execution_count": 9,
   "id": "e6664dd4-2932-4baa-bbd0-06372ae291d8",
   "metadata": {
    "tags": []
   },
   "outputs": [
    {
     "name": "stdout",
     "output_type": "stream",
     "text": [
      "balchandbhai k. patel associates @ 079 2764 5894 balchanbhai@gmail.com ® www.balchandbhaikpate.com 9 7/a, 1st floor, jay jalaram society, opp. thirpur jain derasar, nr. vyas wadi, nava vadaj, ahmedabad 380 013.\n",
      "{'NAME': ['Balchandbhai K Patel Associates', 'Nava Vadaj'], 'ORG': [], 'DES': [], 'PHONE': ['2764', '013'], 'EMAIL': ['balchanbhai@gmail.com'], 'WEB': ['www.balchandbhaikpate.com']}\n"
     ]
    }
   ],
   "source": [
    "img_results, entities = pred.getPredictions(img)\n",
    "\n",
    "print(entities)\n",
    "cv2.namedWindow('predictions',cv2.WINDOW_NORMAL)\n",
    "cv2.imshow('predictions',img_results)\n",
    "cv2.waitKey(0)\n",
    "cv2.destroyAllWindows()"
   ]
  },
  {
   "cell_type": "markdown",
   "id": "c9db1229-07b4-4bb6-b697-8e60fe461bb3",
   "metadata": {},
   "source": [
    "###### "
   ]
  },
  {
   "cell_type": "code",
   "execution_count": null,
   "id": "f03534ba-705b-4dd8-b10d-da6badd65c0c",
   "metadata": {},
   "outputs": [],
   "source": []
  }
 ],
 "metadata": {
  "kernelspec": {
   "display_name": "Python 3 (ipykernel)",
   "language": "python",
   "name": "python3"
  },
  "language_info": {
   "codemirror_mode": {
    "name": "ipython",
    "version": 3
   },
   "file_extension": ".py",
   "mimetype": "text/x-python",
   "name": "python",
   "nbconvert_exporter": "python",
   "pygments_lexer": "ipython3",
   "version": "3.8.10"
  }
 },
 "nbformat": 4,
 "nbformat_minor": 5
}
